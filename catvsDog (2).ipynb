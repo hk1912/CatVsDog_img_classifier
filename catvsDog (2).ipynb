{
  "nbformat": 4,
  "nbformat_minor": 0,
  "metadata": {
    "colab": {
      "name": " catvsDog.ipynb",
      "version": "0.3.2",
      "provenance": [],
      "collapsed_sections": []
    },
    "kernelspec": {
      "name": "python3",
      "display_name": "Python 3"
    },
    "accelerator": "GPU"
  },
  "cells": [
    {
      "metadata": {
        "id": "b-KlRdd8xZRZ",
        "colab_type": "code",
        "colab": {}
      },
      "cell_type": "code",
      "source": [
        "import os\n",
        "import numpy as np\n",
        "from keras.models import Sequential\n",
        "from keras.layers import Activation, Dropout, Flatten, Dense\n",
        "from keras.preprocessing.image import ImageDataGenerator\n",
        "from keras.layers import Convolution2D, MaxPooling2D, ZeroPadding2D\n",
        "from keras import optimizers"
      ],
      "execution_count": 0,
      "outputs": []
    },
    {
      "metadata": {
        "id": "oPNoGNqQ4b2n",
        "colab_type": "code",
        "colab": {
          "base_uri": "https://localhost:8080/",
          "height": 54
        },
        "outputId": "dbc07987-91a3-4110-ebc1-e80091f14cab"
      },
      "cell_type": "code",
      "source": [
        "from google.colab import drive\n",
        "drive.mount('/content/drive')"
      ],
      "execution_count": 47,
      "outputs": [
        {
          "output_type": "stream",
          "text": [
            "Drive already mounted at /content/drive; to attempt to forcibly remount, call drive.mount(\"/content/drive\", force_remount=True).\n"
          ],
          "name": "stdout"
        }
      ]
    },
    {
      "metadata": {
        "id": "HtqcE5wKAlJa",
        "colab_type": "code",
        "colab": {}
      },
      "cell_type": "code",
      "source": [
        "train_data_dir=\"train_cvd\""
      ],
      "execution_count": 0,
      "outputs": []
    },
    {
      "metadata": {
        "id": "bupm0ZpNAzTs",
        "colab_type": "code",
        "colab": {}
      },
      "cell_type": "code",
      "source": [
        "validation_data_dir = \"test_cvd\""
      ],
      "execution_count": 0,
      "outputs": []
    },
    {
      "metadata": {
        "id": "gDBXbh7RBWHa",
        "colab_type": "code",
        "colab": {}
      },
      "cell_type": "code",
      "source": [
        "img_width, img_height = 150, 150"
      ],
      "execution_count": 0,
      "outputs": []
    },
    {
      "metadata": {
        "id": "YQfy7JMmVPL7",
        "colab_type": "code",
        "colab": {}
      },
      "cell_type": "code",
      "source": [
        ""
      ],
      "execution_count": 0,
      "outputs": []
    },
    {
      "metadata": {
        "id": "F1H6ErfPGUnv",
        "colab_type": "code",
        "colab": {
          "base_uri": "https://localhost:8080/",
          "height": 34
        },
        "outputId": "c6a3bd45-5b07-4673-be63-038755d856b4"
      },
      "cell_type": "code",
      "source": [
        "datagen = ImageDataGenerator(rescale=1./255)\n",
        "train_generator = datagen.flow_from_directory(\n",
        "        train_data_dir,\n",
        "        target_size=(img_width, img_height),\n",
        "        batch_size=16,\n",
        "        class_mode='binary')\n"
      ],
      "execution_count": 53,
      "outputs": [
        {
          "output_type": "stream",
          "text": [
            "Found 2002 images belonging to 2 classes.\n"
          ],
          "name": "stdout"
        }
      ]
    },
    {
      "metadata": {
        "id": "DEUYp7y0VRyD",
        "colab_type": "code",
        "colab": {
          "base_uri": "https://localhost:8080/",
          "height": 34
        },
        "outputId": "f8c444eb-b33d-4295-98f3-c95ce945b3ce"
      },
      "cell_type": "code",
      "source": [
        "validation_generator = datagen.flow_from_directory(\n",
        "        validation_data_dir,\n",
        "        target_size=(img_width, img_height),\n",
        "        batch_size=32,\n",
        "        class_mode='binary')"
      ],
      "execution_count": 54,
      "outputs": [
        {
          "output_type": "stream",
          "text": [
            "Found 814 images belonging to 2 classes.\n"
          ],
          "name": "stdout"
        }
      ]
    },
    {
      "metadata": {
        "id": "FmJH86AEVR0a",
        "colab_type": "code",
        "colab": {
          "base_uri": "https://localhost:8080/",
          "height": 139
        },
        "outputId": "75937cb9-1298-4608-c8f1-18729372f903"
      },
      "cell_type": "code",
      "source": [
        "model = Sequential()\n",
        "model.add(Convolution2D(32, 3, 3, input_shape=(img_width, img_height,3)))\n",
        "model.add(Activation('relu'))\n",
        "model.add(MaxPooling2D(pool_size=(2, 2)))\n",
        "\n",
        "model.add(Convolution2D(32, 3, 3))\n",
        "model.add(Activation('relu'))\n",
        "model.add(MaxPooling2D(pool_size=(2, 2)))\n",
        "\n",
        "model.add(Convolution2D(64, 3, 3))\n",
        "model.add(Activation('relu'))\n",
        "model.add(MaxPooling2D(pool_size=(2, 2)))\n",
        "\n",
        "model.add(Flatten())\n",
        "model.add(Dense(64))\n",
        "model.add(Activation('relu'))\n",
        "model.add(Dropout(0.5))\n",
        "model.add(Dense(1))\n",
        "model.add(Activation('sigmoid'))"
      ],
      "execution_count": 55,
      "outputs": [
        {
          "output_type": "stream",
          "text": [
            "/usr/local/lib/python3.6/dist-packages/ipykernel_launcher.py:2: UserWarning: Update your `Conv2D` call to the Keras 2 API: `Conv2D(32, (3, 3), input_shape=(150, 150,...)`\n",
            "  \n",
            "/usr/local/lib/python3.6/dist-packages/ipykernel_launcher.py:6: UserWarning: Update your `Conv2D` call to the Keras 2 API: `Conv2D(32, (3, 3))`\n",
            "  \n",
            "/usr/local/lib/python3.6/dist-packages/ipykernel_launcher.py:10: UserWarning: Update your `Conv2D` call to the Keras 2 API: `Conv2D(64, (3, 3))`\n",
            "  # Remove the CWD from sys.path while we load stuff.\n"
          ],
          "name": "stderr"
        }
      ]
    },
    {
      "metadata": {
        "id": "oGNsOhtaVhXj",
        "colab_type": "code",
        "colab": {}
      },
      "cell_type": "code",
      "source": [
        "model.compile(loss='binary_crossentropy',\n",
        "              optimizer='rmsprop',\n",
        "              metrics=['accuracy'])"
      ],
      "execution_count": 0,
      "outputs": []
    },
    {
      "metadata": {
        "id": "qWacuzIyVn-7",
        "colab_type": "code",
        "colab": {}
      },
      "cell_type": "code",
      "source": [
        "nb_epoch = 30\n",
        "nb_train_samples = 500\n",
        "nb_validation_samples = 200"
      ],
      "execution_count": 0,
      "outputs": []
    },
    {
      "metadata": {
        "id": "1MRfgyUKVrw6",
        "colab_type": "code",
        "colab": {
          "base_uri": "https://localhost:8080/",
          "height": 1142
        },
        "outputId": "d6a9128a-8330-467d-d6b8-1bdaedd2b98f"
      },
      "cell_type": "code",
      "source": [
        "model.fit_generator(\n",
        "        train_generator,\n",
        "        samples_per_epoch=nb_train_samples,\n",
        "        nb_epoch=nb_epoch,\n",
        "        validation_data=validation_generator,\n",
        "        nb_val_samples=nb_validation_samples)"
      ],
      "execution_count": 69,
      "outputs": [
        {
          "output_type": "stream",
          "text": [
            "Epoch 1/30\n",
            "\r 1/31 [..............................] - ETA: 3s - loss: 0.5788 - acc: 0.8125"
          ],
          "name": "stdout"
        },
        {
          "output_type": "stream",
          "text": [
            "/usr/local/lib/python3.6/dist-packages/ipykernel_launcher.py:6: UserWarning: The semantics of the Keras 2 argument `steps_per_epoch` is not the same as the Keras 1 argument `samples_per_epoch`. `steps_per_epoch` is the number of batches to draw from the generator at each epoch. Basically steps_per_epoch = samples_per_epoch/batch_size. Similarly `nb_val_samples`->`validation_steps` and `val_samples`->`steps` arguments have changed. Update your method calls accordingly.\n",
            "  \n",
            "/usr/local/lib/python3.6/dist-packages/ipykernel_launcher.py:6: UserWarning: Update your `fit_generator` call to the Keras 2 API: `fit_generator(<keras_pre..., validation_data=<keras_pre..., steps_per_epoch=31, epochs=30, validation_steps=200)`\n",
            "  \n"
          ],
          "name": "stderr"
        },
        {
          "output_type": "stream",
          "text": [
            "31/31 [==============================] - 31s 987ms/step - loss: 0.5319 - acc: 0.7603 - val_loss: 0.4130 - val_acc: 0.8199\n",
            "Epoch 2/30\n",
            "31/31 [==============================] - 31s 987ms/step - loss: 0.4719 - acc: 0.7984 - val_loss: 0.4015 - val_acc: 0.8236\n",
            "Epoch 3/30\n",
            "31/31 [==============================] - 30s 958ms/step - loss: 0.5344 - acc: 0.7641 - val_loss: 0.4070 - val_acc: 0.8061\n",
            "Epoch 4/30\n",
            "31/31 [==============================] - 30s 954ms/step - loss: 0.5178 - acc: 0.7500 - val_loss: 0.4288 - val_acc: 0.8194\n",
            "Epoch 5/30\n",
            "31/31 [==============================] - 30s 971ms/step - loss: 0.4478 - acc: 0.7906 - val_loss: 0.4055 - val_acc: 0.8258\n",
            "Epoch 6/30\n",
            "31/31 [==============================] - 30s 958ms/step - loss: 0.4031 - acc: 0.8246 - val_loss: 0.5217 - val_acc: 0.7655\n",
            "Epoch 7/30\n",
            "31/31 [==============================] - 30s 965ms/step - loss: 0.4185 - acc: 0.8105 - val_loss: 0.4149 - val_acc: 0.8127\n",
            "Epoch 8/30\n",
            "31/31 [==============================] - 30s 979ms/step - loss: 0.4855 - acc: 0.7722 - val_loss: 0.3744 - val_acc: 0.8373\n",
            "Epoch 9/30\n",
            "31/31 [==============================] - 30s 969ms/step - loss: 0.4658 - acc: 0.8063 - val_loss: 0.3222 - val_acc: 0.8621\n",
            "Epoch 10/30\n",
            "31/31 [==============================] - 30s 972ms/step - loss: 0.4170 - acc: 0.8185 - val_loss: 0.3542 - val_acc: 0.8418\n",
            "Epoch 11/30\n",
            "31/31 [==============================] - 30s 970ms/step - loss: 0.3788 - acc: 0.8206 - val_loss: 0.3214 - val_acc: 0.8544\n",
            "Epoch 12/30\n",
            "31/31 [==============================] - 30s 973ms/step - loss: 0.4050 - acc: 0.8226 - val_loss: 0.3260 - val_acc: 0.8615\n",
            "Epoch 13/30\n",
            "31/31 [==============================] - 30s 975ms/step - loss: 0.4645 - acc: 0.8067 - val_loss: 0.3173 - val_acc: 0.8819\n",
            "Epoch 14/30\n",
            "31/31 [==============================] - 30s 979ms/step - loss: 0.3718 - acc: 0.8427 - val_loss: 0.3184 - val_acc: 0.8724\n",
            "Epoch 15/30\n",
            "31/31 [==============================] - 30s 974ms/step - loss: 0.3547 - acc: 0.8569 - val_loss: 0.2531 - val_acc: 0.8938\n",
            "Epoch 16/30\n",
            "31/31 [==============================] - 30s 982ms/step - loss: 0.3417 - acc: 0.8468 - val_loss: 0.3421 - val_acc: 0.8349\n",
            "Epoch 17/30\n",
            "31/31 [==============================] - 30s 977ms/step - loss: 0.3359 - acc: 0.8668 - val_loss: 0.2860 - val_acc: 0.8724\n",
            "Epoch 18/30\n",
            "31/31 [==============================] - 30s 981ms/step - loss: 0.3170 - acc: 0.8548 - val_loss: 0.2631 - val_acc: 0.8848\n",
            "Epoch 19/30\n",
            "31/31 [==============================] - 31s 990ms/step - loss: 0.2975 - acc: 0.8730 - val_loss: 0.2779 - val_acc: 0.8812\n",
            "Epoch 20/30\n",
            "31/31 [==============================] - 31s 1s/step - loss: 0.3571 - acc: 0.8367 - val_loss: 0.2591 - val_acc: 0.8907\n",
            "Epoch 21/30\n",
            "31/31 [==============================] - 31s 1s/step - loss: 0.2845 - acc: 0.8729 - val_loss: 0.2325 - val_acc: 0.9138\n",
            "Epoch 22/30\n",
            "31/31 [==============================] - 32s 1s/step - loss: 0.2676 - acc: 0.8770 - val_loss: 0.2192 - val_acc: 0.9209\n",
            "Epoch 23/30\n",
            "31/31 [==============================] - 32s 1s/step - loss: 0.2781 - acc: 0.8911 - val_loss: 0.2100 - val_acc: 0.9119\n",
            "Epoch 24/30\n",
            "31/31 [==============================] - 32s 1s/step - loss: 0.3073 - acc: 0.8790 - val_loss: 0.1845 - val_acc: 0.9305\n",
            "Epoch 25/30\n",
            "31/31 [==============================] - 33s 1s/step - loss: 0.2948 - acc: 0.8830 - val_loss: 0.1877 - val_acc: 0.9216\n",
            "Epoch 26/30\n",
            "31/31 [==============================] - 32s 1s/step - loss: 0.2452 - acc: 0.9012 - val_loss: 0.2333 - val_acc: 0.8953\n",
            "Epoch 27/30\n",
            "31/31 [==============================] - 32s 1s/step - loss: 0.2333 - acc: 0.9113 - val_loss: 0.1879 - val_acc: 0.9252\n",
            "Epoch 28/30\n",
            "31/31 [==============================] - 32s 1s/step - loss: 0.2496 - acc: 0.9093 - val_loss: 0.1766 - val_acc: 0.9316\n",
            "Epoch 29/30\n",
            "31/31 [==============================] - 32s 1s/step - loss: 0.2267 - acc: 0.8991 - val_loss: 0.2191 - val_acc: 0.8918\n",
            "Epoch 30/30\n",
            "31/31 [==============================] - 32s 1s/step - loss: 0.2205 - acc: 0.9093 - val_loss: 0.1386 - val_acc: 0.9580\n"
          ],
          "name": "stdout"
        },
        {
          "output_type": "execute_result",
          "data": {
            "text/plain": [
              "<keras.callbacks.History at 0x7f306a89bc18>"
            ]
          },
          "metadata": {
            "tags": []
          },
          "execution_count": 69
        }
      ]
    },
    {
      "metadata": {
        "id": "9Z1O9zQ-ahkA",
        "colab_type": "code",
        "colab": {}
      },
      "cell_type": "code",
      "source": [
        "model.save_weights(\"cvd.h25\")"
      ],
      "execution_count": 0,
      "outputs": []
    },
    {
      "metadata": {
        "id": "yweNbRIbavyl",
        "colab_type": "code",
        "colab": {
          "base_uri": "https://localhost:8080/",
          "height": 34
        },
        "outputId": "b9a3c474-6ac0-4d56-e49e-90b45c8decdd"
      },
      "cell_type": "code",
      "source": [
        "model.evaluate_generator(validation_generator, nb_validation_samples)"
      ],
      "execution_count": 60,
      "outputs": [
        {
          "output_type": "execute_result",
          "data": {
            "text/plain": [
              "[0.5290090319555458, 0.7371623743437792]"
            ]
          },
          "metadata": {
            "tags": []
          },
          "execution_count": 60
        }
      ]
    },
    {
      "metadata": {
        "id": "HIr1NpnVbejn",
        "colab_type": "code",
        "colab": {
          "base_uri": "https://localhost:8080/",
          "height": 34
        },
        "outputId": "a941a0f3-436e-47a8-ce7b-6f9a70cc2c34"
      },
      "cell_type": "code",
      "source": [
        "import tensorflow as tf\n",
        "tf.test.gpu_device_name()"
      ],
      "execution_count": 61,
      "outputs": [
        {
          "output_type": "execute_result",
          "data": {
            "text/plain": [
              "'/device:GPU:0'"
            ]
          },
          "metadata": {
            "tags": []
          },
          "execution_count": 61
        }
      ]
    },
    {
      "metadata": {
        "id": "lTBUHlJadw7u",
        "colab_type": "code",
        "colab": {
          "base_uri": "https://localhost:8080/",
          "height": 34
        },
        "outputId": "b6b82788-a38e-43cc-8582-15bdef751825"
      },
      "cell_type": "code",
      "source": [
        "train_datagen_augmented = ImageDataGenerator(\n",
        "        rescale=1./255,        # normalize pixel values to [0,1]\n",
        "        shear_range=0.2,       # randomly applies shearing transformation\n",
        "        zoom_range=0.2,        # randomly applies shearing transformation\n",
        "        horizontal_flip=True)  # randomly flip the images\n",
        "\n",
        "# same code as before\n",
        "train_generator_augmented = train_datagen_augmented.flow_from_directory(\n",
        "        train_data_dir,\n",
        "        target_size=(img_width, img_height),\n",
        "        batch_size=32,\n",
        "        class_mode='binary')"
      ],
      "execution_count": 63,
      "outputs": [
        {
          "output_type": "stream",
          "text": [
            "Found 2002 images belonging to 2 classes.\n"
          ],
          "name": "stdout"
        }
      ]
    },
    {
      "metadata": {
        "id": "t-xav1k4d65v",
        "colab_type": "code",
        "colab": {
          "base_uri": "https://localhost:8080/",
          "height": 224
        },
        "outputId": "7b2cf752-f97b-4931-cb9b-0c9e5b2ec4df"
      },
      "cell_type": "code",
      "source": [
        "model.fit_generator(\n",
        "        train_generator_augmented,\n",
        "        samples_per_epoch=nb_train_samples,\n",
        "        nb_epoch=nb_epoch,\n",
        "        validation_data=validation_generator,\n",
        "        nb_val_samples=nb_validation_samples)"
      ],
      "execution_count": 64,
      "outputs": [
        {
          "output_type": "stream",
          "text": [
            "/usr/local/lib/python3.6/dist-packages/ipykernel_launcher.py:6: UserWarning: The semantics of the Keras 2 argument `steps_per_epoch` is not the same as the Keras 1 argument `samples_per_epoch`. `steps_per_epoch` is the number of batches to draw from the generator at each epoch. Basically steps_per_epoch = samples_per_epoch/batch_size. Similarly `nb_val_samples`->`validation_steps` and `val_samples`->`steps` arguments have changed. Update your method calls accordingly.\n",
            "  \n",
            "/usr/local/lib/python3.6/dist-packages/ipykernel_launcher.py:6: UserWarning: Update your `fit_generator` call to the Keras 2 API: `fit_generator(<keras_pre..., validation_data=<keras_pre..., steps_per_epoch=62, epochs=3, validation_steps=814)`\n",
            "  \n"
          ],
          "name": "stderr"
        },
        {
          "output_type": "stream",
          "text": [
            "Epoch 1/3\n",
            "62/62 [==============================] - 133s 2s/step - loss: 0.5760 - acc: 0.6976 - val_loss: 0.4991 - val_acc: 0.7555\n",
            "Epoch 2/3\n",
            "62/62 [==============================] - 130s 2s/step - loss: 0.5683 - acc: 0.7091 - val_loss: 0.5029 - val_acc: 0.7393\n",
            "Epoch 3/3\n",
            "62/62 [==============================] - 131s 2s/step - loss: 0.5587 - acc: 0.7323 - val_loss: 0.4965 - val_acc: 0.7544\n"
          ],
          "name": "stdout"
        },
        {
          "output_type": "execute_result",
          "data": {
            "text/plain": [
              "<keras.callbacks.History at 0x7f306a70b3c8>"
            ]
          },
          "metadata": {
            "tags": []
          },
          "execution_count": 64
        }
      ]
    },
    {
      "metadata": {
        "id": "7os5q0lag0fu",
        "colab_type": "code",
        "colab": {}
      },
      "cell_type": "code",
      "source": [
        ""
      ],
      "execution_count": 0,
      "outputs": []
    },
    {
      "metadata": {
        "id": "3cC_oCzrfivI",
        "colab_type": "code",
        "colab": {}
      },
      "cell_type": "code",
      "source": [
        "model.save_weights(\"cvd1.h5\")"
      ],
      "execution_count": 0,
      "outputs": []
    },
    {
      "metadata": {
        "id": "I4m3oRiybnAu",
        "colab_type": "code",
        "colab": {
          "base_uri": "https://localhost:8080/",
          "height": 476
        },
        "outputId": "ab212868-498d-4f4a-ed60-e061f37411e5"
      },
      "cell_type": "code",
      "source": [
        "from tensorflow.python.client import device_lib\n",
        "device_lib.list_local_devices()"
      ],
      "execution_count": 62,
      "outputs": [
        {
          "output_type": "execute_result",
          "data": {
            "text/plain": [
              "[name: \"/device:CPU:0\"\n",
              " device_type: \"CPU\"\n",
              " memory_limit: 268435456\n",
              " locality {\n",
              " }\n",
              " incarnation: 17424538207143024855, name: \"/device:XLA_CPU:0\"\n",
              " device_type: \"XLA_CPU\"\n",
              " memory_limit: 17179869184\n",
              " locality {\n",
              " }\n",
              " incarnation: 12042105151130540369\n",
              " physical_device_desc: \"device: XLA_CPU device\", name: \"/device:XLA_GPU:0\"\n",
              " device_type: \"XLA_GPU\"\n",
              " memory_limit: 17179869184\n",
              " locality {\n",
              " }\n",
              " incarnation: 3961481428027878998\n",
              " physical_device_desc: \"device: XLA_GPU device\", name: \"/device:GPU:0\"\n",
              " device_type: \"GPU\"\n",
              " memory_limit: 11281553818\n",
              " locality {\n",
              "   bus_id: 1\n",
              "   links {\n",
              "   }\n",
              " }\n",
              " incarnation: 4475354849812698965\n",
              " physical_device_desc: \"device: 0, name: Tesla K80, pci bus id: 0000:00:04.0, compute capability: 3.7\"]"
            ]
          },
          "metadata": {
            "tags": []
          },
          "execution_count": 62
        }
      ]
    }
  ]
}
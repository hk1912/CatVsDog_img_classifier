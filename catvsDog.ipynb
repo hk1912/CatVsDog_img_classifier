{
  "nbformat": 4,
  "nbformat_minor": 0,
  "metadata": {
    "colab": {
      "name": " catvsDog.ipynb",
      "version": "0.3.2",
      "provenance": [],
      "collapsed_sections": [],
      "include_colab_link": true
    },
    "kernelspec": {
      "name": "python3",
      "display_name": "Python 3"
    },
    "accelerator": "GPU"
  },
  "cells": [
    {
      "cell_type": "markdown",
      "metadata": {
        "id": "view-in-github",
        "colab_type": "text"
      },
      "source": [
        "<a href=\"https://colab.research.google.com/github/hk1912/CatVsDog_img_classifier/blob/master/catvsDog.ipynb\" target=\"_parent\"><img src=\"https://colab.research.google.com/assets/colab-badge.svg\" alt=\"Open In Colab\"/></a>"
      ]
    },
    {
      "metadata": {
        "id": "b-KlRdd8xZRZ",
        "colab_type": "code",
        "colab": {}
      },
      "cell_type": "code",
      "source": [
        "import os\n",
        "import numpy as np\n",
        "from keras.models import Sequential\n",
        "from keras.layers import Activation, Dropout, Flatten, Dense\n",
        "from keras.preprocessing.image import ImageDataGenerator\n",
        "from keras.layers import Convolution2D, MaxPooling2D, ZeroPadding2D\n",
        "from keras import optimizers"
      ],
      "execution_count": 0,
      "outputs": []
    },
    {
      "metadata": {
        "id": "oPNoGNqQ4b2n",
        "colab_type": "code",
        "outputId": "dbc07987-91a3-4110-ebc1-e80091f14cab",
        "colab": {
          "base_uri": "https://localhost:8080/",
          "height": 54
        }
      },
      "cell_type": "code",
      "source": [
        "from google.colab import drive\n",
        "drive.mount('/content/drive')"
      ],
      "execution_count": 0,
      "outputs": [
        {
          "output_type": "stream",
          "text": [
            "Drive already mounted at /content/drive; to attempt to forcibly remount, call drive.mount(\"/content/drive\", force_remount=True).\n"
          ],
          "name": "stdout"
        }
      ]
    },
    {
      "metadata": {
        "id": "HtqcE5wKAlJa",
        "colab_type": "code",
        "colab": {}
      },
      "cell_type": "code",
      "source": [
        "train_data_dir=\"train_cvd\""
      ],
      "execution_count": 0,
      "outputs": []
    },
    {
      "metadata": {
        "id": "bupm0ZpNAzTs",
        "colab_type": "code",
        "colab": {}
      },
      "cell_type": "code",
      "source": [
        "validation_data_dir = \"test_cvd\""
      ],
      "execution_count": 0,
      "outputs": []
    },
    {
      "metadata": {
        "id": "gDBXbh7RBWHa",
        "colab_type": "code",
        "colab": {}
      },
      "cell_type": "code",
      "source": [
        "img_width, img_height = 150, 150"
      ],
      "execution_count": 0,
      "outputs": []
    },
    {
      "metadata": {
        "id": "YQfy7JMmVPL7",
        "colab_type": "code",
        "colab": {}
      },
      "cell_type": "code",
      "source": [
        ""
      ],
      "execution_count": 0,
      "outputs": []
    },
    {
      "metadata": {
        "id": "F1H6ErfPGUnv",
        "colab_type": "code",
        "outputId": "c6a3bd45-5b07-4673-be63-038755d856b4",
        "colab": {
          "base_uri": "https://localhost:8080/",
          "height": 34
        }
      },
      "cell_type": "code",
      "source": [
        "datagen = ImageDataGenerator(rescale=1./255)\n",
        "train_generator = datagen.flow_from_directory(\n",
        "        train_data_dir,\n",
        "        target_size=(img_width, img_height),\n",
        "        batch_size=16,\n",
        "        class_mode='binary')\n"
      ],
      "execution_count": 0,
      "outputs": [
        {
          "output_type": "stream",
          "text": [
            "Found 2002 images belonging to 2 classes.\n"
          ],
          "name": "stdout"
        }
      ]
    },
    {
      "metadata": {
        "id": "DEUYp7y0VRyD",
        "colab_type": "code",
        "outputId": "f8c444eb-b33d-4295-98f3-c95ce945b3ce",
        "colab": {
          "base_uri": "https://localhost:8080/",
          "height": 34
        }
      },
      "cell_type": "code",
      "source": [
        "validation_generator = datagen.flow_from_directory(\n",
        "        validation_data_dir,\n",
        "        target_size=(img_width, img_height),\n",
        "        batch_size=32,\n",
        "        class_mode='binary')"
      ],
      "execution_count": 0,
      "outputs": [
        {
          "output_type": "stream",
          "text": [
            "Found 814 images belonging to 2 classes.\n"
          ],
          "name": "stdout"
        }
      ]
    },
    {
      "metadata": {
        "id": "FmJH86AEVR0a",
        "colab_type": "code",
        "outputId": "75937cb9-1298-4608-c8f1-18729372f903",
        "colab": {
          "base_uri": "https://localhost:8080/",
          "height": 139
        }
      },
      "cell_type": "code",
      "source": [
        "model = Sequential()\n",
        "model.add(Convolution2D(32, 3, 3, input_shape=(img_width, img_height,3)))\n",
        "model.add(Activation('relu'))\n",
        "model.add(MaxPooling2D(pool_size=(2, 2)))\n",
        "\n",
        "model.add(Convolution2D(32, 3, 3))\n",
        "model.add(Activation('relu'))\n",
        "model.add(MaxPooling2D(pool_size=(2, 2)))\n",
        "\n",
        "model.add(Convolution2D(64, 3, 3))\n",
        "model.add(Activation('relu'))\n",
        "model.add(MaxPooling2D(pool_size=(2, 2)))\n",
        "\n",
        "model.add(Flatten())\n",
        "model.add(Dense(64))\n",
        "model.add(Activation('relu'))\n",
        "model.add(Dropout(0.5))\n",
        "model.add(Dense(1))\n",
        "model.add(Activation('sigmoid'))"
      ],
      "execution_count": 0,
      "outputs": [
        {
          "output_type": "stream",
          "text": [
            "/usr/local/lib/python3.6/dist-packages/ipykernel_launcher.py:2: UserWarning: Update your `Conv2D` call to the Keras 2 API: `Conv2D(32, (3, 3), input_shape=(150, 150,...)`\n",
            "  \n",
            "/usr/local/lib/python3.6/dist-packages/ipykernel_launcher.py:6: UserWarning: Update your `Conv2D` call to the Keras 2 API: `Conv2D(32, (3, 3))`\n",
            "  \n",
            "/usr/local/lib/python3.6/dist-packages/ipykernel_launcher.py:10: UserWarning: Update your `Conv2D` call to the Keras 2 API: `Conv2D(64, (3, 3))`\n",
            "  # Remove the CWD from sys.path while we load stuff.\n"
          ],
          "name": "stderr"
        }
      ]
    },
    {
      "metadata": {
        "id": "oGNsOhtaVhXj",
        "colab_type": "code",
        "colab": {}
      },
      "cell_type": "code",
      "source": [
        "model.compile(loss='binary_crossentropy',\n",
        "              optimizer='rmsprop',\n",
        "              metrics=['accuracy'])"
      ],
      "execution_count": 0,
      "outputs": []
    },
    {
      "metadata": {
        "id": "qWacuzIyVn-7",
        "colab_type": "code",
        "colab": {}
      },
      "cell_type": "code",
      "source": [
        "nb_epoch = 30\n",
        "nb_train_samples = 500\n",
        "nb_validation_samples = 200"
      ],
      "execution_count": 0,
      "outputs": []
    },
    {
      "metadata": {
        "id": "1MRfgyUKVrw6",
        "colab_type": "code",
        "outputId": "d6a9128a-8330-467d-d6b8-1bdaedd2b98f",
        "colab": {
          "base_uri": "https://localhost:8080/",
          "height": 1142
        }
      },
      "cell_type": "code",
      "source": [
        "model.fit_generator(\n",
        "        train_generator,\n",
        "        samples_per_epoch=nb_train_samples,\n",
        "        nb_epoch=nb_epoch,\n",
        "        validation_data=validation_generator,\n",
        "        nb_val_samples=nb_validation_samples)"
      ],
      "execution_count": 0,
      "outputs": [
        {
          "output_type": "stream",
          "text": [
            "Epoch 1/30\n",
            "\r 1/31 [..............................] - ETA: 3s - loss: 0.5788 - acc: 0.8125"
          ],
          "name": "stdout"
        },
        {
          "output_type": "stream",
          "text": [
            "/usr/local/lib/python3.6/dist-packages/ipykernel_launcher.py:6: UserWarning: The semantics of the Keras 2 argument `steps_per_epoch` is not the same as the Keras 1 argument `samples_per_epoch`. `steps_per_epoch` is the number of batches to draw from the generator at each epoch. Basically steps_per_epoch = samples_per_epoch/batch_size. Similarly `nb_val_samples`->`validation_steps` and `val_samples`->`steps` arguments have changed. Update your method calls accordingly.\n",
            "  \n",
            "/usr/local/lib/python3.6/dist-packages/ipykernel_launcher.py:6: UserWarning: Update your `fit_generator` call to the Keras 2 API: `fit_generator(<keras_pre..., validation_data=<keras_pre..., steps_per_epoch=31, epochs=30, validation_steps=200)`\n",
            "  \n"
          ],
          "name": "stderr"
        },
        {
          "output_type": "stream",
          "text": [
            "31/31 [==============================] - 31s 987ms/step - loss: 0.5319 - acc: 0.7603 - val_loss: 0.4130 - val_acc: 0.8199\n",
            "Epoch 2/30\n",
            "31/31 [==============================] - 31s 987ms/step - loss: 0.4719 - acc: 0.7984 - val_loss: 0.4015 - val_acc: 0.8236\n",
            "Epoch 3/30\n",
            "31/31 [==============================] - 30s 958ms/step - loss: 0.5344 - acc: 0.7641 - val_loss: 0.4070 - val_acc: 0.8061\n",
            "Epoch 4/30\n",
            "31/31 [==============================] - 30s 954ms/step - loss: 0.5178 - acc: 0.7500 - val_loss: 0.4288 - val_acc: 0.8194\n",
            "Epoch 5/30\n",
            "31/31 [==============================] - 30s 971ms/step - loss: 0.4478 - acc: 0.7906 - val_loss: 0.4055 - val_acc: 0.8258\n",
            "Epoch 6/30\n",
            "31/31 [==============================] - 30s 958ms/step - loss: 0.4031 - acc: 0.8246 - val_loss: 0.5217 - val_acc: 0.7655\n",
            "Epoch 7/30\n",
            "31/31 [==============================] - 30s 965ms/step - loss: 0.4185 - acc: 0.8105 - val_loss: 0.4149 - val_acc: 0.8127\n",
            "Epoch 8/30\n",
            "31/31 [==============================] - 30s 979ms/step - loss: 0.4855 - acc: 0.7722 - val_loss: 0.3744 - val_acc: 0.8373\n",
            "Epoch 9/30\n",
            "31/31 [==============================] - 30s 969ms/step - loss: 0.4658 - acc: 0.8063 - val_loss: 0.3222 - val_acc: 0.8621\n",
            "Epoch 10/30\n",
            "31/31 [==============================] - 30s 972ms/step - loss: 0.4170 - acc: 0.8185 - val_loss: 0.3542 - val_acc: 0.8418\n",
            "Epoch 11/30\n",
            "31/31 [==============================] - 30s 970ms/step - loss: 0.3788 - acc: 0.8206 - val_loss: 0.3214 - val_acc: 0.8544\n",
            "Epoch 12/30\n",
            "31/31 [==============================] - 30s 973ms/step - loss: 0.4050 - acc: 0.8226 - val_loss: 0.3260 - val_acc: 0.8615\n",
            "Epoch 13/30\n",
            "31/31 [==============================] - 30s 975ms/step - loss: 0.4645 - acc: 0.8067 - val_loss: 0.3173 - val_acc: 0.8819\n",
            "Epoch 14/30\n",
            "31/31 [==============================] - 30s 979ms/step - loss: 0.3718 - acc: 0.8427 - val_loss: 0.3184 - val_acc: 0.8724\n",
            "Epoch 15/30\n",
            "31/31 [==============================] - 30s 974ms/step - loss: 0.3547 - acc: 0.8569 - val_loss: 0.2531 - val_acc: 0.8938\n",
            "Epoch 16/30\n",
            "31/31 [==============================] - 30s 982ms/step - loss: 0.3417 - acc: 0.8468 - val_loss: 0.3421 - val_acc: 0.8349\n",
            "Epoch 17/30\n",
            "31/31 [==============================] - 30s 977ms/step - loss: 0.3359 - acc: 0.8668 - val_loss: 0.2860 - val_acc: 0.8724\n",
            "Epoch 18/30\n",
            "31/31 [==============================] - 30s 981ms/step - loss: 0.3170 - acc: 0.8548 - val_loss: 0.2631 - val_acc: 0.8848\n",
            "Epoch 19/30\n",
            "31/31 [==============================] - 31s 990ms/step - loss: 0.2975 - acc: 0.8730 - val_loss: 0.2779 - val_acc: 0.8812\n",
            "Epoch 20/30\n",
            "31/31 [==============================] - 31s 1s/step - loss: 0.3571 - acc: 0.8367 - val_loss: 0.2591 - val_acc: 0.8907\n",
            "Epoch 21/30\n",
            "31/31 [==============================] - 31s 1s/step - loss: 0.2845 - acc: 0.8729 - val_loss: 0.2325 - val_acc: 0.9138\n",
            "Epoch 22/30\n",
            "31/31 [==============================] - 32s 1s/step - loss: 0.2676 - acc: 0.8770 - val_loss: 0.2192 - val_acc: 0.9209\n",
            "Epoch 23/30\n",
            "31/31 [==============================] - 32s 1s/step - loss: 0.2781 - acc: 0.8911 - val_loss: 0.2100 - val_acc: 0.9119\n",
            "Epoch 24/30\n",
            "31/31 [==============================] - 32s 1s/step - loss: 0.3073 - acc: 0.8790 - val_loss: 0.1845 - val_acc: 0.9305\n",
            "Epoch 25/30\n",
            "31/31 [==============================] - 33s 1s/step - loss: 0.2948 - acc: 0.8830 - val_loss: 0.1877 - val_acc: 0.9216\n",
            "Epoch 26/30\n",
            "31/31 [==============================] - 32s 1s/step - loss: 0.2452 - acc: 0.9012 - val_loss: 0.2333 - val_acc: 0.8953\n",
            "Epoch 27/30\n",
            "31/31 [==============================] - 32s 1s/step - loss: 0.2333 - acc: 0.9113 - val_loss: 0.1879 - val_acc: 0.9252\n",
            "Epoch 28/30\n",
            "31/31 [==============================] - 32s 1s/step - loss: 0.2496 - acc: 0.9093 - val_loss: 0.1766 - val_acc: 0.9316\n",
            "Epoch 29/30\n",
            "31/31 [==============================] - 32s 1s/step - loss: 0.2267 - acc: 0.8991 - val_loss: 0.2191 - val_acc: 0.8918\n",
            "Epoch 30/30\n",
            "31/31 [==============================] - 32s 1s/step - loss: 0.2205 - acc: 0.9093 - val_loss: 0.1386 - val_acc: 0.9580\n"
          ],
          "name": "stdout"
        },
        {
          "output_type": "execute_result",
          "data": {
            "text/plain": [
              "<keras.callbacks.History at 0x7f306a89bc18>"
            ]
          },
          "metadata": {
            "tags": []
          },
          "execution_count": 69
        }
      ]
    },
    {
      "metadata": {
        "id": "9Z1O9zQ-ahkA",
        "colab_type": "code",
        "colab": {}
      },
      "cell_type": "code",
      "source": [
        "model.save_weights(\"cvd.h25\")"
      ],
      "execution_count": 0,
      "outputs": []
    },
    {
      "metadata": {
        "id": "yweNbRIbavyl",
        "colab_type": "code",
        "outputId": "04bd3642-3250-4067-fe4e-1214a70371a9",
        "colab": {
          "base_uri": "https://localhost:8080/",
          "height": 34
        }
      },
      "cell_type": "code",
      "source": [
        "model.evaluate_generator(validation_generator, nb_validation_samples)"
      ],
      "execution_count": 72,
      "outputs": [
        {
          "output_type": "execute_result",
          "data": {
            "text/plain": [
              "[0.1396459610942189, 0.9570012786008818]"
            ]
          },
          "metadata": {
            "tags": []
          },
          "execution_count": 72
        }
      ]
    },
    {
      "metadata": {
        "id": "lTBUHlJadw7u",
        "colab_type": "code",
        "outputId": "2fefaf8f-f096-4f5c-f777-a6f99f3d7f00",
        "colab": {
          "base_uri": "https://localhost:8080/",
          "height": 34
        }
      },
      "cell_type": "code",
      "source": [
        "train_datagen_augmented = ImageDataGenerator(\n",
        "        rescale=1./255,        # normalize pixel values to [0,1]\n",
        "        shear_range=0.2,       # randomly applies shearing transformation\n",
        "        zoom_range=0.2,        # randomly applies shearing transformation\n",
        "        horizontal_flip=True)  # randomly flip the images\n",
        "\n",
        "# same code as before\n",
        "train_generator_augmented = train_datagen_augmented.flow_from_directory(\n",
        "        train_data_dir,\n",
        "        target_size=(img_width, img_height),\n",
        "        batch_size=32,\n",
        "        class_mode='binary')"
      ],
      "execution_count": 73,
      "outputs": [
        {
          "output_type": "stream",
          "text": [
            "Found 2002 images belonging to 2 classes.\n"
          ],
          "name": "stdout"
        }
      ]
    },
    {
      "metadata": {
        "id": "t-xav1k4d65v",
        "colab_type": "code",
        "outputId": "43174ad8-7c47-4678-d025-52d8f5abe471",
        "colab": {
          "base_uri": "https://localhost:8080/",
          "height": 1142
        }
      },
      "cell_type": "code",
      "source": [
        "model.fit_generator(\n",
        "        train_generator_augmented,\n",
        "        samples_per_epoch=nb_train_samples,\n",
        "        nb_epoch=nb_epoch,\n",
        "        validation_data=validation_generator,\n",
        "        nb_val_samples=nb_validation_samples)"
      ],
      "execution_count": 74,
      "outputs": [
        {
          "output_type": "stream",
          "text": [
            "/usr/local/lib/python3.6/dist-packages/ipykernel_launcher.py:6: UserWarning: The semantics of the Keras 2 argument `steps_per_epoch` is not the same as the Keras 1 argument `samples_per_epoch`. `steps_per_epoch` is the number of batches to draw from the generator at each epoch. Basically steps_per_epoch = samples_per_epoch/batch_size. Similarly `nb_val_samples`->`validation_steps` and `val_samples`->`steps` arguments have changed. Update your method calls accordingly.\n",
            "  \n",
            "/usr/local/lib/python3.6/dist-packages/ipykernel_launcher.py:6: UserWarning: Update your `fit_generator` call to the Keras 2 API: `fit_generator(<keras_pre..., validation_data=<keras_pre..., steps_per_epoch=15, epochs=30, validation_steps=200)`\n",
            "  \n"
          ],
          "name": "stderr"
        },
        {
          "output_type": "stream",
          "text": [
            "Epoch 1/30\n",
            "15/15 [==============================] - 37s 2s/step - loss: 0.4989 - acc: 0.7979 - val_loss: 0.2415 - val_acc: 0.9409\n",
            "Epoch 2/30\n",
            "15/15 [==============================] - 33s 2s/step - loss: 0.4562 - acc: 0.7854 - val_loss: 0.2302 - val_acc: 0.9187\n",
            "Epoch 3/30\n",
            "15/15 [==============================] - 33s 2s/step - loss: 0.4870 - acc: 0.7667 - val_loss: 0.5546 - val_acc: 0.7618\n",
            "Epoch 4/30\n",
            "15/15 [==============================] - 33s 2s/step - loss: 0.5435 - acc: 0.7625 - val_loss: 0.3152 - val_acc: 0.8390\n",
            "Epoch 5/30\n",
            "15/15 [==============================] - 33s 2s/step - loss: 0.4580 - acc: 0.7649 - val_loss: 0.3403 - val_acc: 0.8566\n",
            "Epoch 6/30\n",
            "15/15 [==============================] - 33s 2s/step - loss: 0.4619 - acc: 0.8000 - val_loss: 0.2505 - val_acc: 0.9204\n",
            "Epoch 7/30\n",
            "15/15 [==============================] - 32s 2s/step - loss: 0.4531 - acc: 0.8021 - val_loss: 0.3402 - val_acc: 0.8549\n",
            "Epoch 8/30\n",
            "15/15 [==============================] - 33s 2s/step - loss: 0.4594 - acc: 0.7937 - val_loss: 0.2292 - val_acc: 0.9156\n",
            "Epoch 9/30\n",
            "15/15 [==============================] - 32s 2s/step - loss: 0.4490 - acc: 0.7977 - val_loss: 0.2291 - val_acc: 0.9308\n",
            "Epoch 10/30\n",
            "15/15 [==============================] - 33s 2s/step - loss: 0.4368 - acc: 0.8104 - val_loss: 0.2931 - val_acc: 0.9039\n",
            "Epoch 11/30\n",
            "15/15 [==============================] - 32s 2s/step - loss: 0.4733 - acc: 0.7833 - val_loss: 0.2398 - val_acc: 0.9073\n",
            "Epoch 12/30\n",
            "15/15 [==============================] - 32s 2s/step - loss: 0.4007 - acc: 0.8375 - val_loss: 0.2575 - val_acc: 0.8916\n",
            "Epoch 13/30\n",
            "15/15 [==============================] - 32s 2s/step - loss: 0.4464 - acc: 0.7977 - val_loss: 0.2528 - val_acc: 0.9145\n",
            "Epoch 14/30\n",
            "15/15 [==============================] - 32s 2s/step - loss: 0.4034 - acc: 0.8313 - val_loss: 0.2491 - val_acc: 0.8959\n",
            "Epoch 15/30\n",
            "15/15 [==============================] - 32s 2s/step - loss: 0.4021 - acc: 0.8271 - val_loss: 0.2280 - val_acc: 0.9037\n",
            "Epoch 16/30\n",
            "15/15 [==============================] - 34s 2s/step - loss: 0.4268 - acc: 0.7979 - val_loss: 0.2526 - val_acc: 0.9078\n",
            "Epoch 17/30\n",
            "15/15 [==============================] - 33s 2s/step - loss: 0.4423 - acc: 0.8195 - val_loss: 0.2168 - val_acc: 0.9220\n",
            "Epoch 18/30\n",
            "15/15 [==============================] - 33s 2s/step - loss: 0.4390 - acc: 0.8187 - val_loss: 0.2534 - val_acc: 0.8932\n",
            "Epoch 19/30\n",
            "15/15 [==============================] - 33s 2s/step - loss: 0.4126 - acc: 0.8187 - val_loss: 0.2257 - val_acc: 0.9051\n",
            "Epoch 20/30\n",
            "15/15 [==============================] - 33s 2s/step - loss: 0.4187 - acc: 0.8063 - val_loss: 0.2696 - val_acc: 0.9196\n",
            "Epoch 21/30\n",
            "15/15 [==============================] - 32s 2s/step - loss: 0.4373 - acc: 0.8066 - val_loss: 0.3790 - val_acc: 0.8106\n",
            "Epoch 22/30\n",
            "15/15 [==============================] - 33s 2s/step - loss: 0.4102 - acc: 0.8167 - val_loss: 1.0446 - val_acc: 0.6588\n",
            "Epoch 23/30\n",
            "15/15 [==============================] - 33s 2s/step - loss: 0.4730 - acc: 0.7896 - val_loss: 0.2267 - val_acc: 0.9019\n",
            "Epoch 24/30\n",
            "15/15 [==============================] - 36s 2s/step - loss: 0.4502 - acc: 0.8083 - val_loss: 0.2558 - val_acc: 0.8931\n",
            "Epoch 25/30\n",
            "15/15 [==============================] - 35s 2s/step - loss: 0.4057 - acc: 0.8354 - val_loss: 0.3036 - val_acc: 0.8642\n",
            "Epoch 26/30\n",
            "15/15 [==============================] - 33s 2s/step - loss: 0.4382 - acc: 0.8087 - val_loss: 0.2721 - val_acc: 0.8971\n",
            "Epoch 27/30\n",
            "15/15 [==============================] - 33s 2s/step - loss: 0.4067 - acc: 0.8167 - val_loss: 0.3584 - val_acc: 0.8266\n",
            "Epoch 28/30\n",
            "15/15 [==============================] - 33s 2s/step - loss: 0.4284 - acc: 0.8208 - val_loss: 0.2190 - val_acc: 0.9356\n",
            "Epoch 29/30\n",
            "15/15 [==============================] - 35s 2s/step - loss: 0.3974 - acc: 0.8229 - val_loss: 0.2028 - val_acc: 0.9223\n",
            "Epoch 30/30\n",
            "15/15 [==============================] - 33s 2s/step - loss: 0.4073 - acc: 0.8275 - val_loss: 0.2021 - val_acc: 0.9277\n"
          ],
          "name": "stdout"
        },
        {
          "output_type": "execute_result",
          "data": {
            "text/plain": [
              "<keras.callbacks.History at 0x7f3069906940>"
            ]
          },
          "metadata": {
            "tags": []
          },
          "execution_count": 74
        }
      ]
    },
    {
      "metadata": {
        "id": "7os5q0lag0fu",
        "colab_type": "code",
        "colab": {}
      },
      "cell_type": "code",
      "source": [
        ""
      ],
      "execution_count": 0,
      "outputs": []
    },
    {
      "metadata": {
        "id": "3cC_oCzrfivI",
        "colab_type": "code",
        "colab": {}
      },
      "cell_type": "code",
      "source": [
        "model.save_weights(\"cvd3.h5\")"
      ],
      "execution_count": 0,
      "outputs": []
    }
  ]
}